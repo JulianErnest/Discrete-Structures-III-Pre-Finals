{
 "cells": [
  {
   "cell_type": "code",
   "execution_count": null,
   "id": "fed721c7-d387-4190-9f8f-0add03a77cd4",
   "metadata": {},
   "outputs": [],
   "source": [
    "def read_arff(file_path):\n",
    "    with open(file_path, 'r') as file:\n",
    "        lines = file.readlines()\n",
    "\n",
    "    data_section = False\n",
    "    attributes = []\n",
    "    data = []\n",
    "\n",
    "    for line in lines:\n",
    "        if line.strip().lower() == '@data':\n",
    "            data_section = True\n",
    "            continue\n",
    "\n",
    "        if data_section:\n",
    "            # Process data section\n",
    "            instance_values = line.strip().split(',')\n",
    "            data.append(instance_values)\n",
    "        elif line.strip().lower().startswith('@attribute'):\n",
    "            # Process attribute section\n",
    "            attribute_name = line.split()[1].strip()\n",
    "            attributes.append(attribute_name)\n",
    "\n",
    "    return attributes, data\n",
    "\n",
    "# Replace 'your_file.arff' with your actual ARFF file path\n",
    "let file_paths = [\n",
    "    \n",
    "]\n",
    "while \n",
    "arff_file_path = 'your_file.arff'\n",
    "attributes, data = read_arff(arff_file_path)\n",
    "\n",
    "print(\"Attributes:\", attributes)\n",
    "print(\"Data:\", data)\n"
   ]
  }
 ],
 "metadata": {
  "kernelspec": {
   "display_name": "Python 3 (ipykernel)",
   "language": "python",
   "name": "python3"
  },
  "language_info": {
   "codemirror_mode": {
    "name": "ipython",
    "version": 3
   },
   "file_extension": ".py",
   "mimetype": "text/x-python",
   "name": "python",
   "nbconvert_exporter": "python",
   "pygments_lexer": "ipython3",
   "version": "3.11.5"
  }
 },
 "nbformat": 4,
 "nbformat_minor": 5
}
